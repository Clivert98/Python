{
 "cells": [
  {
   "cell_type": "code",
   "execution_count": 20,
   "id": "15b976e3-9e05-47e1-a71b-a08a7a287ceb",
   "metadata": {},
   "outputs": [
    {
     "name": "stdin",
     "output_type": "stream",
     "text": [
      "Enter a choice (rock, paper, scissors): rock\n"
     ]
    },
    {
     "name": "stdout",
     "output_type": "stream",
     "text": [
      "You chose rock and computer chose paper\n",
      "Paper covers rock! You lose.\n"
     ]
    }
   ],
   "source": [
    "## Rock, Paper, Scissors Game\n",
    "\n",
    "#Importing the random library\n",
    "import random\n",
    "\n",
    "# Creating a choice for User to pick and random choices for computer\n",
    "def get_choices():\n",
    "    player_choice = input(\"Enter a choice (rock, paper, scissors):\")\n",
    "    options = [\"rock\", \"paper\", \"scissors\"]                             \n",
    "    computer_choice = random.choice(options)                             \n",
    "    choices = {\"player\": player_choice, \"computer\": computer_choice}\n",
    "    return choices\n",
    "\n",
    "def check_win(player, computer):\n",
    "    print(f\"You chose {player} and computer chose {computer}\")\n",
    "    if player == computer:\n",
    "        return \"It is a tie!\" \n",
    "    elif player == \"rock\":\n",
    "        if computer == \"scissors\":\n",
    "            return \"Rock smashes scissors! You win!\"\n",
    "        else:\n",
    "            return \"Paper covers rock! You lose.\"\n",
    "    elif player == \"paper\":\n",
    "        if computer == \"rock\":\n",
    "            return \"Paper covers rock! You win!\"\n",
    "        else:\n",
    "            return \"Scissors cuts paper! You lose.\"\n",
    "    elif player == \"scissors\":\n",
    "        if computer == \"paper\":\n",
    "            return \"Scissors cuts paper! You win!\"\n",
    "        else: \n",
    "            return \"Rock smashes scissors! You lose.\"\n",
    "            \n",
    "\n",
    "choices = get_choices()\n",
    "result = check_win(choices[\"player\"], choices[\"computer\"])\n",
    "\n",
    "print(result)"
   ]
  },
  {
   "cell_type": "code",
   "execution_count": null,
   "id": "a8cbb5da-584a-4aae-8819-963dc187ba14",
   "metadata": {},
   "outputs": [],
   "source": []
  },
  {
   "cell_type": "code",
   "execution_count": null,
   "id": "7606cc90-8eee-45b0-a8d8-f344b7c21e9d",
   "metadata": {},
   "outputs": [],
   "source": []
  },
  {
   "cell_type": "code",
   "execution_count": null,
   "id": "e8536a3f-8ff1-4cc7-ba7a-9fc93dadf1e4",
   "metadata": {},
   "outputs": [],
   "source": []
  }
 ],
 "metadata": {
  "kernelspec": {
   "display_name": "Python 3 (ipykernel)",
   "language": "python",
   "name": "python3"
  },
  "language_info": {
   "codemirror_mode": {
    "name": "ipython",
    "version": 3
   },
   "file_extension": ".py",
   "mimetype": "text/x-python",
   "name": "python",
   "nbconvert_exporter": "python",
   "pygments_lexer": "ipython3",
   "version": "3.12.4"
  }
 },
 "nbformat": 4,
 "nbformat_minor": 5
}
