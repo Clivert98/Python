{
 "cells": [
  {
   "cell_type": "code",
   "execution_count": 1,
   "id": "b2598bc5-5c86-4205-a618-4f7e7a24a470",
   "metadata": {},
   "outputs": [],
   "source": [
    "import random\n",
    "\n",
    "# Global constant (something that is not going to change)\n",
    "MAX_LINES = 3\n",
    "MAX_BET = 100\n",
    "MIN_BET = 1\n",
    "\n",
    "ROWS = 3\n",
    "COLS = 3\n",
    "\n",
    "# Symbols in columns\n",
    "symbol_count = {\n",
    "    \"A\": 2,\n",
    "    \"B\": 4,\n",
    "    \"C\": 6,\n",
    "    \"D\": 8\n",
    "}\n",
    "\n",
    "symbol_value = {\n",
    "    \"A\": 5,\n",
    "    \"B\": 4,\n",
    "    \"C\": 3,\n",
    "    \"D\": 2\n",
    "}\n",
    "\n",
    "def check_winnings(columns, lines, bet, values):\n",
    "    winnings = 0\n",
    "    winning_lines = []\n",
    "    for line in range(lines):\n",
    "        symbol = columns[0][line]\n",
    "        for column in columns:\n",
    "            symbol_to_check = column[line]\n",
    "            if symbol != symbol_to_check:\n",
    "                break\n",
    "        else:\n",
    "            winnings = values[symbol] * bet\n",
    "            winning_lines.append(line + 1)\n",
    "\n",
    "    return winnings, winning_lines\n",
    "    \n",
    "\n",
    "# Function to generate what symbols are going to be in each column based on the frequency of symbols we have\n",
    "def get_slot_machine_spin(rows,cols,symbols):\n",
    "    # Creating a list that contains all of the different values we can possibly select from and randomly choose three of those values.\n",
    "    all_symbols = []\n",
    "    for symbol, symbol_count in symbols.items():\n",
    "        for i in range(symbol_count):\n",
    "            all_symbols.append(symbol)\n",
    "# Selecting what values go into every single column\n",
    "    columns = [] \n",
    "    for col in range(cols): \n",
    "        column = [] \n",
    "        current_symbols = all_symbols[:] \n",
    "        for row in range(rows): \n",
    "            value = random.choice(current_symbols) # Picks a random value from the list.\n",
    "            current_symbols.remove(value)\n",
    "            column.append(value)\n",
    "        columns.append(column)\n",
    "    return columns\n",
    "\n",
    "def print_slot_machine(columns):\n",
    "    for row in range(len(columns[0])):\n",
    "        for i, column in enumerate(columns):\n",
    "            if i != len(columns) - 1:\n",
    "                print(column[row], end=\" | \")\n",
    "            else:\n",
    "                print(column[row], end=\"\")\n",
    "                \n",
    "        print()"
   ]
  },
  {
   "cell_type": "code",
   "execution_count": 2,
   "id": "51f1dbfd-d43d-4fd3-964d-b3f305ca734a",
   "metadata": {},
   "outputs": [],
   "source": [
    "# Defining a function for depositing\n",
    "\n",
    "def deposit():\n",
    "# While loop created so process will keep running until it is successful (broken out of loop)\n",
    "    while True:\n",
    "        amount = input(\"How much would you like to deposit? $\")\n",
    "        if amount.isdigit():\n",
    "            amount = int(amount)\n",
    "            if amount > 0:\n",
    "                break\n",
    "            else:\n",
    "                print(\"Amount needs to be greater than 0\")\n",
    "        else:\n",
    "            print(\"Please enter a number\")\n",
    "    return amount"
   ]
  },
  {
   "cell_type": "code",
   "execution_count": 3,
   "id": "7823c5c0-ddc3-4b69-887a-8fead17989a2",
   "metadata": {},
   "outputs": [],
   "source": [
    "# Function for number of lines the user wants to bet on\n",
    "\n",
    "def get_number_of_lines():\n",
    "    while True:\n",
    "        lines = input(\"Enter the number of lines to bet on (1-\" + str(MAX_LINES) + \")? \")\n",
    "        if lines.isdigit():\n",
    "            lines = int(lines)\n",
    "            if 1 <= lines <= MAX_LINES:\n",
    "                break\n",
    "            else:\n",
    "                print(\"Amount needs to be a valid amount of lines.\")\n",
    "        else:\n",
    "            print(\"Please enter a number.\")\n",
    "    return lines"
   ]
  },
  {
   "cell_type": "code",
   "execution_count": 4,
   "id": "bb17adcf-a2ef-4fcc-8174-91ee58320d57",
   "metadata": {},
   "outputs": [],
   "source": [
    "# Function for how much money the user wants to put on the bet\n",
    "\n",
    "def get_bet():\n",
    "    while True:\n",
    "        amount = input(f\"What would you like to bet on each line? \")\n",
    "        if amount.isdigit():\n",
    "            amount = int(amount)\n",
    "            if MIN_BET <= amount <= MAX_BET:\n",
    "                break\n",
    "            else:\n",
    "                print(f\"Amount must be between ${MIN_BET} and ${MAX_BET}.\")\n",
    "        else:\n",
    "            print(\"Please enter a valid number.\")\n",
    "            \n",
    "    return amount"
   ]
  },
  {
   "cell_type": "code",
   "execution_count": null,
   "id": "957e8f25-1964-4084-ac47-bc88bb484c80",
   "metadata": {},
   "outputs": [
    {
     "name": "stdin",
     "output_type": "stream",
     "text": [
      "How much would you like to deposit? $ 100\n"
     ]
    },
    {
     "name": "stdout",
     "output_type": "stream",
     "text": [
      "Current balance is $100\n"
     ]
    },
    {
     "name": "stdin",
     "output_type": "stream",
     "text": [
      "Press enter to spin (q to quit) \n",
      "Enter the number of lines to bet on (1-3)?  3\n",
      "What would you like to bet on each line?  10\n"
     ]
    },
    {
     "name": "stdout",
     "output_type": "stream",
     "text": [
      "You are betting $10 on 3 lines. Total bet is qual to: $30\n",
      "C | A | A\n",
      "C | D | B\n",
      "D | C | B\n",
      "You won 0.\n",
      "You won on lines:\n",
      "Current balance is $70\n"
     ]
    },
    {
     "name": "stdin",
     "output_type": "stream",
     "text": [
      "Press enter to spin (q to quit) 3\n",
      "Enter the number of lines to bet on (1-3)?  3\n",
      "What would you like to bet on each line?  5\n"
     ]
    },
    {
     "name": "stdout",
     "output_type": "stream",
     "text": [
      "You are betting $5 on 3 lines. Total bet is qual to: $15\n",
      "C | C | A\n",
      "D | A | B\n",
      "D | D | D\n",
      "You won 10.\n",
      "You won on lines: 3\n",
      "Current balance is $65\n"
     ]
    },
    {
     "name": "stdin",
     "output_type": "stream",
     "text": [
      "Press enter to spin (q to quit) \n",
      "Enter the number of lines to bet on (1-3)?  2\n",
      "What would you like to bet on each line?  10\n"
     ]
    },
    {
     "name": "stdout",
     "output_type": "stream",
     "text": [
      "You are betting $10 on 2 lines. Total bet is qual to: $20\n",
      "C | D | B\n",
      "D | C | C\n",
      "D | C | B\n",
      "You won 0.\n",
      "You won on lines:\n",
      "Current balance is $45\n"
     ]
    },
    {
     "name": "stdin",
     "output_type": "stream",
     "text": [
      "Press enter to spin (q to quit) \n",
      "Enter the number of lines to bet on (1-3)?  3\n",
      "What would you like to bet on each line?  10\n"
     ]
    },
    {
     "name": "stdout",
     "output_type": "stream",
     "text": [
      "You are betting $10 on 3 lines. Total bet is qual to: $30\n",
      "C | A | D\n",
      "D | D | A\n",
      "C | D | D\n",
      "You won 0.\n",
      "You won on lines:\n",
      "Current balance is $15\n"
     ]
    },
    {
     "name": "stdin",
     "output_type": "stream",
     "text": [
      "Press enter to spin (q to quit) 3\n",
      "Enter the number of lines to bet on (1-3)?  3\n",
      "What would you like to bet on each line?  15\n"
     ]
    },
    {
     "name": "stdout",
     "output_type": "stream",
     "text": [
      "You do not have enough to bet that amount, your current balance is: $15\n",
      "You need $30 more to start this bet.\n"
     ]
    }
   ],
   "source": [
    "def spin(balance):\n",
    "    lines = get_number_of_lines()\n",
    "    while True:\n",
    "        bet = get_bet()\n",
    "        total_bet = bet * lines\n",
    "        needed_bet = total_bet - balance\n",
    "\n",
    "        if total_bet > balance:\n",
    "            print(\n",
    "                f\"You do not have enough to bet that amount, your current balance is: ${balance}\")\n",
    "            print(\n",
    "                f\"You need ${needed_bet} more to start this bet.\")\n",
    "        else:\n",
    "            break\n",
    "        \n",
    "    print(f\"You are betting ${bet} on {lines} lines. Total bet is qual to: ${total_bet}\")\n",
    "\n",
    "\n",
    "    slots = get_slot_machine_spin(ROWS, COLS, symbol_count)\n",
    "    print_slot_machine(slots)\n",
    "    winnings, winning_lines = check_winnings(slots, lines, bet, symbol_value)\n",
    "    print(f\"You won {winnings}.\")\n",
    "    print(f\"You won on lines:\", *winning_lines) # *passes every single line from the winning line list to the print function\n",
    "    return winnings - total_bet\n",
    "\n",
    "\n",
    "def main():\n",
    "    balance = deposit()\n",
    "    while True:\n",
    "        print(f\"Current balance is ${balance}\")\n",
    "        answer = input(\"Press enter to spin (q to quit)\")\n",
    "        if answer == \"q\":\n",
    "            break\n",
    "        balance += spin(balance)\n",
    "\n",
    "    print(f\"You left with £{balance}\")\n",
    "\n",
    "\n",
    "main()"
   ]
  },
  {
   "cell_type": "code",
   "execution_count": null,
   "id": "59faff9b-afe2-427c-80a5-1432e4bcc3c4",
   "metadata": {},
   "outputs": [],
   "source": []
  }
 ],
 "metadata": {
  "kernelspec": {
   "display_name": "Python 3 (ipykernel)",
   "language": "python",
   "name": "python3"
  },
  "language_info": {
   "codemirror_mode": {
    "name": "ipython",
    "version": 3
   },
   "file_extension": ".py",
   "mimetype": "text/x-python",
   "name": "python",
   "nbconvert_exporter": "python",
   "pygments_lexer": "ipython3",
   "version": "3.12.4"
  }
 },
 "nbformat": 4,
 "nbformat_minor": 5
}
